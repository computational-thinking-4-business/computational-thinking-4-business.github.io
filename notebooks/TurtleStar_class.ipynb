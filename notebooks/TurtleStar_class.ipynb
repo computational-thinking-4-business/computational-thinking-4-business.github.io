{
 "cells": [
  {
   "cell_type": "markdown",
   "metadata": {
    "id": "sHKa108RxMd-"
   },
   "source": [
    "The star program from the turtle.py documentation. This version draws the star twice using two turtles. The first uses the evenodd fillrule and the second uses the nonzero fillrule."
   ]
  },
  {
   "cell_type": "code",
   "execution_count": 1,
   "metadata": {
    "colab": {
     "base_uri": "https://localhost:8080/"
    },
    "id": "y3yP3NYONlmN",
    "outputId": "09897810-de71-46e1-977f-8268a675e0bd"
   },
   "outputs": [
    {
     "name": "stdout",
     "output_type": "stream",
     "text": [
      "Put clearscreen() as the first line in a cell (after the import command) to re-run turtle commands in the cell\n"
     ]
    }
   ],
   "source": [
    "from ColabTurtlePlus.Turtle import *"
   ]
  },
  {
   "cell_type": "code",
   "execution_count": 2,
   "metadata": {
    "colab": {
     "base_uri": "https://localhost:8080/",
     "height": 322
    },
    "id": "_TU-pGItQOJi",
    "outputId": "41395611-5f1e-479f-c05f-0a573465a73b"
   },
   "outputs": [
    {
     "data": {
      "text/html": [
       "\n",
       "      <svg width=\"500\" height=\"300\">  \n",
       "        <rect width=\"100%\" height=\"100%\" style=\"fill:white;stroke:;stroke-width:1\"/>\n",
       "        \n",
       "        \n",
       "        <path fill-rule=\"nonzero\" fill-opacity=\"1\" d=\"M 25.0 150.0  L 225.0 150.0  L 37.061 81.596  L 190.27 210.154  L 90.27 36.949  L 125.0 233.911  L 159.73 36.949  L 59.73 210.154  L 212.939 81.596  L 25.0 150.0 \" stroke-linecap=\"round\" style=\"stroke:red;stroke-width:1.5\" fill=\"yellow\" /><path fill-rule=\"evenodd\" fill-opacity=\"1\" d=\"M 275.0 150.0  L 475.0 150.0  L 278.038 115.27  L 465.977 183.674  L 292.772 83.674  L 445.981 212.232  L 317.423 59.023  L 417.423 232.228  L 349.019 44.289  L 383.749 241.251  L 383.749 41.251  L 349.019 238.213  L 417.423 50.274  L 317.423 223.479  L 445.981 70.27  L 292.772 198.828  L 465.977 98.828  L 278.038 167.232  L 475.0 132.502  L 275.0 132.502  L 471.962 167.232  L 284.023 98.828  L 457.228 198.828  L 304.019 70.27  L 432.577 223.479  L 332.577 50.274  L 400.981 238.213  L 366.251 41.251  L 366.251 241.251  L 400.981 44.289  L 332.577 232.228  L 432.577 59.023  L 304.019 212.232  L 457.228 83.674  L 284.023 183.674  L 471.962 115.27  L 275.0 150.0 \" stroke-linecap=\"round\" style=\"stroke:red;stroke-width:1.5\" fill=\"yellow\" />\n",
       "        \n",
       "        \n",
       "        <g id=\"classic\" visibility=\"visible\" transform=\"rotate(-90,25.0,150.0) translate(25.0, 150.0)\">\n",
       "<polygon points=\"-5,-4.5 0,-2.5 5,-4.5 0,4.5\" transform=\"skewX(0) scale(1,1)\" style=\"stroke:red;fill:yellow;stroke-width:1\" />\n",
       "</g><g id=\"classic\" visibility=\"visible\" transform=\"rotate(-90,275.0,150.0) translate(275.0, 150.0)\">\n",
       "<polygon points=\"-5,-4.5 0,-2.5 5,-4.5 0,4.5\" transform=\"skewX(0.0) scale(1,1)\" style=\"stroke:red;fill:yellow;stroke-width:1\" />\n",
       "</g>\n",
       "      </svg>\n",
       "    "
      ],
      "text/plain": [
       "<IPython.core.display.HTML object>"
      ]
     },
     "metadata": {},
     "output_type": "display_data"
    }
   ],
   "source": [
    "clearscreen()\n",
    "setup(500,300)\n",
    "T = Turtle()\n",
    "T.color('red', 'yellow')\n",
    "T.speed(13)\n",
    "T.width(1.5)\n",
    "S = T.clone()\n",
    "# T.fillrule(\"evenodd\")\n",
    "# S.fillrule(\"nonzero\")\n",
    "# x0 = -225\n",
    "# T.jumpto(x0,0)\n",
    "# S.jumpto(25,0)\n",
    "# T.begin_fill()\n",
    "# S.begin_fill()\n",
    "\n",
    "\n",
    "# while True:\n",
    "#     T.forward(200)\n",
    "#     T.left(160)\n",
    "#     S.forward(200)\n",
    "#     S.left(170)\n",
    "#     if (T.getx()-x0)**2 + T.gety()**2 < 1:\n",
    "#         break\n",
    "# T.end_fill()\n",
    "# S.end_fill()\n",
    "\n",
    "def make_star(ttl, start_x, ang, fillrule):\n",
    "    ttl.fillrule(fillrule)\n",
    "    ttl.jumpto(start_x,0)\n",
    "    ttl.begin_fill()\n",
    "    while True:\n",
    "        ttl.forward(200)\n",
    "        ttl.left(ang)\n",
    "        if (ttl.getx()-start_x)**2 + ttl.gety()**2 < 1:\n",
    "            break\n",
    "    ttl.end_fill()\n",
    "\n",
    "make_star(T, -225, 160, \"nonzero\")\n",
    "make_star(S, 25, 170, \"evenodd\")\n"
   ]
  },
  {
   "cell_type": "markdown",
   "metadata": {
    "id": "8mJ_OGzXFYME"
   },
   "source": [
    "## Decomposition\n",
    "## Abstraction\n",
    "## Algorithm\n",
    "## Pattern Recognition\n",
    "## Automation"
   ]
  }
 ],
 "metadata": {
  "colab": {
   "name": "TurtleStar-class.ipynb",
   "provenance": []
  },
  "kernelspec": {
   "display_name": "Python 3 (ipykernel)",
   "language": "python",
   "name": "python3"
  },
  "language_info": {
   "codemirror_mode": {
    "name": "ipython",
    "version": 3
   },
   "file_extension": ".py",
   "mimetype": "text/x-python",
   "name": "python",
   "nbconvert_exporter": "python",
   "pygments_lexer": "ipython3",
   "version": "3.11.2"
  }
 },
 "nbformat": 4,
 "nbformat_minor": 4
}
